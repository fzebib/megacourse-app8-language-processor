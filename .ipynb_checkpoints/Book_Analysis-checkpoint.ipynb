{
 "cells": [
  {
   "cell_type": "markdown",
   "id": "5cd2bca1-9483-4db7-8262-d376ab0f3cdf",
   "metadata": {},
   "source": [
    "# Load the Book"
   ]
  },
  {
   "cell_type": "markdown",
   "id": "761e6cbe-f28f-46bf-b5c7-fc1da0a97227",
   "metadata": {},
   "source": [
    "with open(\"miracle_in_the_andes.txt\", \"r\") as file:\n",
    "    book = file.read()\n",
    "type(book)"
   ]
  },
  {
   "cell_type": "markdown",
   "id": "0a226a60-a911-4a7d-af34-afb6ad1a9cfc",
   "metadata": {},
   "source": [
    "# How many chapters?"
   ]
  },
  {
   "cell_type": "code",
   "execution_count": 7,
   "id": "9c2592ff-be1a-4f31-9190-8d61f1bddbaf",
   "metadata": {},
   "outputs": [],
   "source": [
    "### With string methods"
   ]
  },
  {
   "cell_type": "code",
   "execution_count": 9,
   "id": "49664a4b-cfe8-424c-8d7c-2d79d7245558",
   "metadata": {
    "scrolled": true
   },
   "outputs": [
    {
     "data": {
      "text/plain": [
       "11"
      ]
     },
     "execution_count": 9,
     "metadata": {},
     "output_type": "execute_result"
    }
   ],
   "source": [
    "book.count(\"Chapter\")"
   ]
  },
  {
   "cell_type": "code",
   "execution_count": 11,
   "id": "f4b57d01-0e07-4cfb-bd8c-a983272fdd43",
   "metadata": {},
   "outputs": [],
   "source": [
    "### With Regex"
   ]
  },
  {
   "cell_type": "code",
   "execution_count": 12,
   "id": "cb9bbcef-8984-43d4-acd9-2df5d63a355c",
   "metadata": {},
   "outputs": [],
   "source": [
    "import re"
   ]
  },
  {
   "cell_type": "code",
   "execution_count": 18,
   "id": "29780d40-41cc-465d-aea6-6dd0943200f8",
   "metadata": {},
   "outputs": [
    {
     "data": {
      "text/plain": [
       "10"
      ]
     },
     "execution_count": 18,
     "metadata": {},
     "output_type": "execute_result"
    }
   ],
   "source": [
    "pattern = re.compile(\"Chapter [0-9]+\")\n",
    "findings = re.findall(pattern, book)\n",
    "len(findings)\n"
   ]
  },
  {
   "cell_type": "markdown",
   "id": "bdd377f3-07d9-464f-b93e-ffede0ff9521",
   "metadata": {},
   "source": [
    "# What are the sentences where \"love\" was used?"
   ]
  },
  {
   "cell_type": "code",
   "execution_count": 20,
   "id": "44336b90-adc0-45e7-90e7-4afc9f43be08",
   "metadata": {},
   "outputs": [
    {
     "data": {
      "text/plain": [
       "['passionate love for',\n",
       " 'a love of',\n",
       " 'to love the',\n",
       " 'in love with',\n",
       " 'the love and',\n",
       " 'a love for',\n",
       " 'mother love it',\n",
       " 'and love and',\n",
       " 'her love and',\n",
       " 'his love for',\n",
       " 'of love for',\n",
       " 's love for',\n",
       " 'to love the',\n",
       " 'my love for',\n",
       " 'the love and',\n",
       " 'my love for',\n",
       " 'my love for',\n",
       " 'of love so',\n",
       " 'and love to',\n",
       " 'to love God',\n",
       " 'to love others',\n",
       " 'with love for',\n",
       " 'this love would',\n",
       " 'my love for',\n",
       " 'is love God',\n",
       " 'and love others',\n",
       " 'can love our',\n",
       " 'I love them',\n",
       " 'made love to',\n",
       " 'such love for',\n",
       " 'My love for',\n",
       " 'Only love can',\n",
       " 'with love and',\n",
       " 'the love of',\n",
       " 'this love and',\n",
       " 'with love as',\n",
       " 'his love had',\n",
       " 'I love it',\n",
       " 'in love with',\n",
       " 'never love anything',\n",
       " 'my love for',\n",
       " 'much love and',\n",
       " 'his love when',\n",
       " 'that love was',\n",
       " 'of love that',\n",
       " 'the love in',\n",
       " 'this love swell',\n",
       " 'I love to',\n",
       " 'the love of',\n",
       " 'my love and',\n",
       " 'of love toward',\n",
       " 'was love that',\n",
       " 'my love for',\n",
       " 'the love I',\n",
       " 'to love my']"
      ]
     },
     "execution_count": 20,
     "metadata": {},
     "output_type": "execute_result"
    }
   ],
   "source": [
    "pattern = re.compile(\"[a-zA-Z ,]* love [a-zA-Z]*\")\n",
    "findings = re.findall(pattern, book)\n",
    "findings"
   ]
  }
 ],
 "metadata": {
  "kernelspec": {
   "display_name": "Python 3 (ipykernel)",
   "language": "python",
   "name": "python3"
  },
  "language_info": {
   "codemirror_mode": {
    "name": "ipython",
    "version": 3
   },
   "file_extension": ".py",
   "mimetype": "text/x-python",
   "name": "python",
   "nbconvert_exporter": "python",
   "pygments_lexer": "ipython3",
   "version": "3.12.3"
  }
 },
 "nbformat": 4,
 "nbformat_minor": 5
}
